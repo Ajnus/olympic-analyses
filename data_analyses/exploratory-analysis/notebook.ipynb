{
    "cells": [
        {
            "cell_type": "code",
            "execution_count": 15,
            "metadata": {},
            "outputs": [
                {
                    "name": "stdout",
                    "output_type": "stream",
                    "text": [
                        "    Inflation Rate        MOM        YOY      3MMA\n",
                        "0         1.939829        NaN        NaN       NaN\n",
                        "1         1.885113  -2.820680        NaN       NaN\n",
                        "2         1.946078   3.234028        NaN  1.923673\n",
                        "3         2.021971   3.899804        NaN  1.951054\n",
                        "4         1.903379  -5.865164        NaN  1.957143\n",
                        "5         1.996319   4.882892        NaN  1.973890\n",
                        "6         2.051014   2.739803        NaN  1.983571\n",
                        "7         1.964055  -4.239816        NaN  2.003796\n",
                        "8         2.086398   6.229092        NaN  2.033822\n",
                        "9         2.073155  -0.634732        NaN  2.041203\n",
                        "10        2.022665  -2.435400        NaN  2.060739\n",
                        "11        1.978189  -2.198870        NaN  2.024670\n",
                        "12        2.015903   1.906472   3.921680  2.005586\n",
                        "13        1.952192  -3.160403   3.558387  1.982095\n",
                        "14        1.941717  -0.536593  -0.224081  1.969937\n",
                        "15        1.926613  -0.777879  -4.716101  1.940174\n",
                        "16        2.011075   4.383995   5.658164  1.959802\n",
                        "17        2.101940   4.518191   5.290768  2.013209\n",
                        "18        2.200182   4.673881   7.272868  2.104399\n",
                        "19        2.082087  -5.367515   6.009593  2.128069\n",
                        "20        2.091081   0.431989   0.224468  2.124450\n",
                        "21        2.020457  -3.377415  -2.541930  2.064542\n",
                        "22        2.025679   0.258481   0.149010  2.045739\n",
                        "23        1.891521  -6.622861  -4.381187  1.979219\n",
                        "24        2.029815   7.311270   0.690135  1.982339\n",
                        "25        2.068507   1.906148   5.958141  1.996614\n",
                        "26        1.935261  -6.441619  -0.332470  2.011195\n",
                        "27        1.985643   2.603356   3.063944  1.996470\n",
                        "28        2.088935   5.201920   3.871525  2.003280\n",
                        "29        2.076712  -0.585100  -1.200192  2.050430\n",
                        "30        2.259976   8.824707   2.717699  2.141874\n",
                        "31        2.253403  -0.290858   8.228096  2.196697\n",
                        "32        2.439781   8.270943  16.675555  2.317720\n",
                        "33        2.427411  -0.506975  20.141724  2.373532\n",
                        "34        2.549451   5.027572  25.856620  2.472214\n",
                        "35        2.548793  -0.025838  34.748294  2.508552\n",
                        "36        2.608167   2.329515  28.492818  2.568804\n",
                        "37        2.541769  -2.545770  22.879423  2.566243\n",
                        "38        2.481027  -2.389764  28.201123  2.543654\n",
                        "39        2.324590  -6.305334  17.069869  2.449129\n",
                        "40        2.151216  -7.458270   2.981468  2.318944\n",
                        "41        2.089659  -2.861472   0.623430  2.188488\n",
                        "42        1.994196  -4.568371 -11.760315  2.078357\n",
                        "43        1.969315  -1.247645 -12.607044  2.017723\n",
                        "44        1.963807  -0.279730 -19.508883  1.975773\n",
                        "45        1.992014   1.436342 -17.936714  1.975045\n",
                        "46        1.802582  -9.509564 -29.295305  1.919467\n",
                        "47        1.886413   4.650612 -25.987981  1.893669\n",
                        "48        1.844782  -2.206898 -29.269039  1.844592\n",
                        "49        1.980474   7.355493 -22.082836  1.903890\n",
                        "50        1.860708  -6.047336 -25.002486  1.895322\n",
                        "51        1.693004  -9.012941 -27.169779  1.844729\n",
                        "52        1.794127   5.973012 -16.599377  1.782613\n",
                        "53        1.721314  -4.058397 -17.627026  1.736149\n",
                        "54        1.699591  -1.262031 -14.773118  1.738344\n",
                        "55        1.752593   3.118496 -11.004979  1.724499\n",
                        "56        1.562997 -10.817991 -20.409815  1.671727\n",
                        "57        1.595466   2.077325 -19.906879  1.637019\n",
                        "58        1.562698  -2.053788 -13.307769  1.573721\n",
                        "59        1.613005   3.219224 -14.493527  1.590390\n"
                    ]
                },
                {
                    "name": "stderr",
                    "output_type": "stream",
                    "text": [
                        "C:\\Users\\Rafael\\AppData\\Local\\Temp\\ipykernel_16112\\1619827967.py:4: FutureWarning: 'M' is deprecated and will be removed in a future version, please use 'ME' instead.\n",
                        "  dates = pd.date_range(start='2018-01-01', periods=60, freq='M')\n"
                    ]
                }
            ],
            "source": [
                "import pandas as pd\n",
                "import numpy as np\n",
                "\n",
                "base_file_path = '../data/'\n",
                "\n",
                "dates = pd.date_range(start='2018-01-01', periods=60, freq='M')\n",
                "\n",
                "inflation_rate = 2 + np.cumsum(np.random.normal(0, 0.1, size=len(dates)))\n",
                "\n",
                "df = pd.DataFrame({'Date': dates, 'Inflation Rate': inflation_rate})\n",
                "\n",
                "df['MOM'] = df['Inflation Rate'].pct_change() * 100\n",
                "\n",
                "df['YOY'] = df['Inflation Rate'].pct_change(periods=12) * 100\n",
                "\n",
                "df['3MMA'] = df['Inflation Rate'].rolling(window=3).mean()\n",
                "\n",
                "print(df[['Inflation Rate', 'MOM', 'YOY', '3MMA']])"
            ]
        },
        {
            "cell_type": "code",
            "execution_count": 36,
            "metadata": {},
            "outputs": [
                {
                    "name": "stdout",
                    "output_type": "stream",
                    "text": [
                        "K=1: Average F1 score=0.8302\n",
                        "K=2: Average F1 score=0.8185\n",
                        "K=3: Average F1 score=0.8411\n",
                        "K=4: Average F1 score=0.8400\n",
                        "K=5: Average F1 score=0.8380\n",
                        "K=6: Average F1 score=0.8386\n",
                        "K=7: Average F1 score=0.8407\n",
                        "K=8: Average F1 score=0.8394\n",
                        "K=9: Average F1 score=0.8391\n",
                        "K=10: Average F1 score=0.8380\n",
                        "K=11: Average F1 score=0.8353\n",
                        "K=12: Average F1 score=0.8356\n",
                        "K=13: Average F1 score=0.8359\n",
                        "K=14: Average F1 score=0.8358\n",
                        "K=15: Average F1 score=0.8345\n",
                        "K=16: Average F1 score=0.8346\n",
                        "K=17: Average F1 score=0.8349\n",
                        "K=18: Average F1 score=0.8347\n",
                        "K=19: Average F1 score=0.8348\n",
                        "K=20: Average F1 score=0.8347\n",
                        "Best k=3: Average F1 score=0.8411\n"
                    ]
                }
            ],
            "source": [
                "import pandas as pd\n",
                "from sklearn.neighbors import KNeighborsClassifier\n",
                "from sklearn.preprocessing import OneHotEncoder\n",
                "from sklearn.compose import ColumnTransformer\n",
                "from sklearn.model_selection import StratifiedKFold\n",
                "from sklearn.metrics import f1_score\n",
                "\n",
                "# Load data\n",
                "df = pd.read_csv(base_file_path+'polished3_with_gdp.csv')[:5000]\n",
                "\n",
                "# Split data into features and target\n",
                "features = ['Sex', 'Age', 'Height', 'Year', 'Event', 'BMI', 'GDP']\n",
                "X = df[features]\n",
                "y = df['Medal']\n",
                "\n",
                "# Define preprocessing pipeline\n",
                "preprocessor = ColumnTransformer(\n",
                "    transformers=[\n",
                "        ('cat', OneHotEncoder(handle_unknown='ignore'), ['Sex', 'Event']),\n",
                "        ('num', 'passthrough', ['Age', 'Height', 'Year', 'BMI', 'GDP'])\n",
                "    ]\n",
                ")\n",
                "\n",
                "# Fit and transform data\n",
                "X_transformed = preprocessor.fit_transform(X)\n",
                "\n",
                "# Define stratified k-fold cross-validation object\n",
                "kfold = StratifiedKFold(n_splits=5, shuffle=True, random_state=42)\n",
                "\n",
                "# Define range of k values to try\n",
                "k_values = range(1, 21)\n",
                "\n",
                "# Initialize dictionary to store accuracy scores\n",
                "f1_scores = {}\n",
                "\n",
                "# Perform stratified k-fold cross-validation for each k value\n",
                "for k in k_values:\n",
                "    model = KNeighborsClassifier(n_neighbors=k)\n",
                "    f1_scores[k] = []\n",
                "\n",
                "    for train_index, val_index in kfold.split(X_transformed, y):\n",
                "        X_train, X_val = X_transformed[train_index], X_transformed[val_index]\n",
                "        y_train, y_val = y.iloc[train_index], y.iloc[val_index]\n",
                "\n",
                "        # Train model on training data\n",
                "        model.fit(X_train, y_train)\n",
                "\n",
                "        # Predict on validation data\n",
                "        y_val_pred = model.predict(X_val)\n",
                "\n",
                "        # Calculate accuracy score\n",
                "        f1 = f1_score(y_val, y_val_pred, average='weighted')\n",
                "        f1_scores[k].append(f1)\n",
                "\n",
                "# Calculate average accuracy score for each k value\n",
                "average_f1_scores = {k: np.average(scores) for k, scores in f1_scores.items()}\n",
                "\n",
                "# Print average accuracy scores\n",
                "for k, accuracy in average_f1_scores.items():\n",
                "    print(f\"K={k}: Average F1 score={accuracy:.4f}\")\n",
                "\n",
                "# Find the k value with the highest average accuracy score\n",
                "best_k = max(average_f1_scores, key=average_f1_scores.get)\n",
                "print(f\"Best k={best_k}: Average F1 score={average_f1_scores[best_k]:.4f}\")"
            ]
        },
        {
            "cell_type": "code",
            "execution_count": 4,
            "metadata": {},
            "outputs": [
                {
                    "data": {
                        "image/png": "[encoded data removed]",
                        "text/plain": [
                            "<Figure size 500x300 with 1 Axes>"
                        ]
                    },
                    "metadata": {},
                    "output_type": "display_data"
                }
            ],
            "source": [
                "nulls = df.isnull().sum().drop(\"Medal\")\n",
                "\n",
                "plt.figure(figsize=(5,3))\n",
                "nulls.plot(kind=\"bar\", color=\"mediumseagreen\")\n",
                "plt.show()"
            ]
        },
        {
            "cell_type": "code",
            "execution_count": null,
            "metadata": {},
            "outputs": [
                {
                    "data": {
                        "text/plain": [
                            "(270097, 15)"
                        ]
                    },
                    "execution_count": 24,
                    "metadata": {},
                    "output_type": "execute_result"
                }
            ],
            "source": [
                "int(df.shape[0] - nulls.max())"
            ]
        }
    ],
    "metadata": {
        "kernelspec": {
            "display_name": "Python 3",
            "language": "python",
            "name": "python3"
        },
        "language_info": {
            "codemirror_mode": {
                "name": "ipython",
                "version": 3
            },
            "file_extension": ".py",
            "mimetype": "text/x-python",
            "name": "python",
            "nbconvert_exporter": "python",
            "pygments_lexer": "ipython3",
            "version": "3.12.7"
        }
    },
    "nbformat": 4,
    "nbformat_minor": 2
}